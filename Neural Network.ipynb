{
 "cells": [
  {
   "cell_type": "markdown",
   "metadata": {},
   "source": [
    "# Задание 2.1 - Нейронные сети\n",
    "\n",
    "В этом задании вы реализуете и натренируете настоящую нейроную сеть своими руками!\n",
    "\n",
    "В некотором смысле это будет расширением прошлого задания - нам нужно просто составить несколько линейных классификаторов вместе!\n",
    "\n",
    "<img src=\"https://i.redd.it/n9fgba8b0qr01.png\" alt=\"Stack_more_layers\" width=\"400px\"/>"
   ]
  },
  {
   "cell_type": "code",
   "execution_count": 1,
   "metadata": {},
   "outputs": [],
   "source": [
    "import numpy as np\n",
    "import matplotlib.pyplot as plt\n",
    "\n",
    "%matplotlib inline\n",
    "\n",
    "%load_ext autoreload\n",
    "%autoreload 2"
   ]
  },
  {
   "cell_type": "code",
   "execution_count": 3,
   "metadata": {},
   "outputs": [],
   "source": [
    "from dataset import load_svhn, random_split_train_val\n",
    "from gradient_check import check_layer_gradient, check_layer_param_gradient, check_model_gradient\n",
    "from layers import FullyConnectedLayer, ReLULayer\n",
    "from model import TwoLayerNet\n",
    "from trainer import Trainer, Dataset\n",
    "from optim import SGD, MomentumSGD\n",
    "from metrics import multiclass_accuracy"
   ]
  },
  {
   "cell_type": "markdown",
   "metadata": {},
   "source": [
    "# Загружаем данные\n",
    "\n",
    "И разделяем их на training и validation."
   ]
  },
  {
   "cell_type": "code",
   "execution_count": 5,
   "metadata": {},
   "outputs": [],
   "source": [
    "def prepare_for_neural_network(train_X, test_X):\n",
    "    train_flat = train_X.reshape(train_X.shape[0], -1).astype(float) / 255.0\n",
    "    test_flat = test_X.reshape(test_X.shape[0], -1).astype(float) / 255.0\n",
    "    \n",
    "    # Subtract mean\n",
    "    mean_image = np.mean(train_flat, axis = 0)\n",
    "    train_flat -= mean_image\n",
    "    test_flat -= mean_image\n",
    "    \n",
    "    return train_flat, test_flat\n",
    "    \n",
    "train_X, train_y, test_X, test_y = load_svhn(\"data\", max_train=10000, max_test=1000)    \n",
    "train_X, test_X = prepare_for_neural_network(train_X, test_X)\n",
    "# Split train into train and val\n",
    "train_X, train_y, val_X, val_y = random_split_train_val(train_X, train_y, num_val = 1000)"
   ]
  },
  {
   "cell_type": "markdown",
   "metadata": {},
   "source": [
    "# Как всегда, начинаем с кирпичиков\n",
    "\n",
    "Мы будем реализовывать необходимые нам слои по очереди. Каждый слой должен реализовать:\n",
    "- прямой проход (forward pass), который генерирует выход слоя по входу и запоминает необходимые данные\n",
    "- обратный проход (backward pass), который получает градиент по выходу слоя и вычисляет градиент по входу и по параметрам\n",
    "\n",
    "Начнем с ReLU, у которого параметров нет."
   ]
  },
  {
   "cell_type": "code",
   "execution_count": 9,
   "metadata": {
    "scrolled": true
   },
   "outputs": [
    {
     "name": "stdout",
     "output_type": "stream",
     "text": [
      "Gradient check passed!\n"
     ]
    }
   ],
   "source": [
    "# TODO: Implement ReLULayer layer in layers.py\n",
    "# Note: you'll need to copy implementation of the gradient_check function from the previous assignment\n",
    "\n",
    "X = np.array([[1,-2,3],\n",
    "              [-1, 2, 0.1]\n",
    "              ])\n",
    "\n",
    "assert check_layer_gradient(ReLULayer(), X)"
   ]
  },
  {
   "cell_type": "markdown",
   "metadata": {},
   "source": [
    "А теперь реализуем полносвязный слой (fully connected layer), у которого будет два массива параметров: W (weights) и B (bias).\n",
    "\n",
    "Все параметры наши слои будут использовать для параметров специальный класс `Param`, в котором будут храниться значения параметров и градиенты этих параметров, вычисляемые во время обратного прохода.\n",
    "\n",
    "Это даст возможность аккумулировать (суммировать) градиенты из разных частей функции потерь, например, из cross-entropy loss и regularization loss."
   ]
  },
  {
   "cell_type": "code",
   "execution_count": 10,
   "metadata": {},
   "outputs": [
    {
     "name": "stdout",
     "output_type": "stream",
     "text": [
      "Gradient check passed!\n",
      "Gradient check passed!\n",
      "Gradient check passed!\n"
     ]
    }
   ],
   "source": [
    "# TODO: Implement FullyConnected layer forward and backward methods\n",
    "assert check_layer_gradient(FullyConnectedLayer(3, 4), X)\n",
    "# TODO: Implement storing gradients for W and B\n",
    "assert check_layer_param_gradient(FullyConnectedLayer(3, 4), X, 'W')\n",
    "assert check_layer_param_gradient(FullyConnectedLayer(3, 4), X, 'B')"
   ]
  },
  {
   "cell_type": "markdown",
   "metadata": {},
   "source": [
    "## Создаем нейронную сеть\n",
    "\n",
    "Теперь мы реализуем простейшую нейронную сеть с двумя полносвязным слоями и нелинейностью ReLU. Реализуйте функцию `compute_loss_and_gradients`, она должна запустить прямой и обратный проход через оба слоя для вычисления градиентов.\n",
    "\n",
    "Не забудьте реализовать очистку градиентов в начале функции."
   ]
  },
  {
   "cell_type": "code",
   "execution_count": 13,
   "metadata": {},
   "outputs": [
    {
     "name": "stdout",
     "output_type": "stream",
     "text": [
      "Checking gradient for W_out\n",
      "Gradient check passed!\n",
      "Checking gradient for W_in\n",
      "Gradient check passed!\n",
      "Checking gradient for B_out\n",
      "Gradient check passed!\n",
      "Checking gradient for B_in\n",
      "Gradient check passed!\n"
     ]
    },
    {
     "data": {
      "text/plain": [
       "True"
      ]
     },
     "execution_count": 13,
     "metadata": {},
     "output_type": "execute_result"
    }
   ],
   "source": [
    "# TODO: In model.py, implement compute_loss_and_gradients function\n",
    "model = TwoLayerNet(n_input = train_X.shape[1], n_output = 10, hidden_layer_size = 3, reg = 0)\n",
    "loss = model.compute_loss_and_gradients(train_X[:2], train_y[:2])\n",
    "\n",
    "# TODO Now implement backward pass and aggregate all of the params\n",
    "check_model_gradient(model, train_X[:2], train_y[:2])"
   ]
  },
  {
   "cell_type": "markdown",
   "metadata": {},
   "source": [
    "Теперь добавьте к модели регуляризацию - она должна прибавляться к loss и делать свой вклад в градиенты."
   ]
  },
  {
   "cell_type": "code",
   "execution_count": 14,
   "metadata": {
    "scrolled": true
   },
   "outputs": [
    {
     "name": "stdout",
     "output_type": "stream",
     "text": [
      "Checking gradient for W_out\n",
      "Gradient check passed!\n",
      "Checking gradient for W_in\n",
      "Gradient check passed!\n",
      "Checking gradient for B_out\n",
      "Gradient check passed!\n",
      "Checking gradient for B_in\n",
      "Gradient check passed!\n"
     ]
    },
    {
     "data": {
      "text/plain": [
       "True"
      ]
     },
     "execution_count": 14,
     "metadata": {},
     "output_type": "execute_result"
    }
   ],
   "source": [
    "# TODO Now implement l2 regularization in the forward and backward pass\n",
    "model_with_reg = TwoLayerNet(n_input = train_X.shape[1], n_output = 10, hidden_layer_size = 3, reg = 1e1)\n",
    "loss_with_reg = model_with_reg.compute_loss_and_gradients(train_X[:2], train_y[:2])\n",
    "assert loss_with_reg > loss and not np.isclose(loss_with_reg, loss), \\\n",
    "    \"Loss with regularization (%2.4f) should be higher than without it (%2.4f)!\" % (loss, loss_with_reg)\n",
    "\n",
    "check_model_gradient(model_with_reg, train_X[:2], train_y[:2])"
   ]
  },
  {
   "cell_type": "markdown",
   "metadata": {},
   "source": [
    "Также реализуем функцию предсказания (вычисления значения) модели на новых данных.\n",
    "\n",
    "Какое значение точности мы ожидаем увидеть до начала тренировки?"
   ]
  },
  {
   "cell_type": "code",
   "execution_count": 16,
   "metadata": {},
   "outputs": [
    {
     "data": {
      "text/plain": [
       "0.1"
      ]
     },
     "execution_count": 16,
     "metadata": {},
     "output_type": "execute_result"
    }
   ],
   "source": [
    "# Finally, implement predict function!\n",
    "\n",
    "# TODO: Implement predict function\n",
    "# What would be the value we expect?\n",
    "multiclass_accuracy(model_with_reg.predict(train_X[:30]), train_y[:30]) "
   ]
  },
  {
   "cell_type": "markdown",
   "metadata": {},
   "source": [
    "# Допишем код для процесса тренировки\n",
    "\n",
    "Если все реализовано корректно, значение функции ошибки должно уменьшаться с каждой эпохой, пусть и медленно. Не беспокойтесь пока про validation accuracy."
   ]
  },
  {
   "cell_type": "code",
   "execution_count": 18,
   "metadata": {},
   "outputs": [
    {
     "name": "stdout",
     "output_type": "stream",
     "text": [
      "Loss: 2.302109, Train accuracy: 0.196667, val accuracy: 0.206000\n",
      "Loss: 2.301968, Train accuracy: 0.196667, val accuracy: 0.206000\n",
      "Loss: 2.301922, Train accuracy: 0.196667, val accuracy: 0.206000\n",
      "Loss: 2.301719, Train accuracy: 0.196667, val accuracy: 0.206000\n",
      "Loss: 2.302023, Train accuracy: 0.196667, val accuracy: 0.206000\n",
      "Loss: 2.302507, Train accuracy: 0.196667, val accuracy: 0.206000\n",
      "Loss: 2.302557, Train accuracy: 0.196667, val accuracy: 0.206000\n",
      "Loss: 2.302218, Train accuracy: 0.196667, val accuracy: 0.206000\n",
      "Loss: 2.302172, Train accuracy: 0.196667, val accuracy: 0.206000\n",
      "Loss: 2.300735, Train accuracy: 0.196667, val accuracy: 0.206000\n",
      "Loss: 2.302746, Train accuracy: 0.148222, val accuracy: 0.140000\n",
      "Loss: 2.301928, Train accuracy: 0.196667, val accuracy: 0.206000\n",
      "Loss: 2.302068, Train accuracy: 0.196667, val accuracy: 0.206000\n",
      "Loss: 2.301485, Train accuracy: 0.196667, val accuracy: 0.206000\n",
      "Loss: 2.302554, Train accuracy: 0.196667, val accuracy: 0.206000\n",
      "Loss: 2.302095, Train accuracy: 0.196667, val accuracy: 0.206000\n",
      "Loss: 2.302603, Train accuracy: 0.196667, val accuracy: 0.206000\n",
      "Loss: 2.301670, Train accuracy: 0.196667, val accuracy: 0.206000\n",
      "Loss: 2.303080, Train accuracy: 0.196667, val accuracy: 0.206000\n",
      "Loss: 2.302489, Train accuracy: 0.196667, val accuracy: 0.206000\n"
     ]
    }
   ],
   "source": [
    "model = TwoLayerNet(n_input = train_X.shape[1], n_output = 10, hidden_layer_size = 100, reg = 1e1)\n",
    "dataset = Dataset(train_X, train_y, val_X, val_y)\n",
    "trainer = Trainer(model, dataset, SGD(), learning_rate = 1e-2)\n",
    "\n",
    "# TODO Implement missing pieces in Trainer.fit function\n",
    "# You should expect loss to go down every epoch, even if it's slow\n",
    "loss_history, train_history, val_history = trainer.fit()"
   ]
  },
  {
   "cell_type": "code",
   "execution_count": 19,
   "metadata": {},
   "outputs": [
    {
     "data": {
      "text/plain": [
       "[<matplotlib.lines.Line2D at 0x1b93f27bed0>]"
      ]
     },
     "execution_count": 19,
     "metadata": {},
     "output_type": "execute_result"
    },
    {
     "data": {
      "image/png": "[encoded data removed]",
      "text/plain": [
       "<Figure size 640x480 with 1 Axes>"
      ]
     },
     "metadata": {},
     "output_type": "display_data"
    }
   ],
   "source": [
    "plt.plot(train_history)\n",
    "plt.plot(val_history)"
   ]
  },
  {
   "cell_type": "markdown",
   "metadata": {},
   "source": [
    "# Улучшаем процесс тренировки\n",
    "\n",
    "Мы реализуем несколько ключевых оптимизаций, необходимых для тренировки современных нейросетей."
   ]
  },
  {
   "cell_type": "markdown",
   "metadata": {},
   "source": [
    "## Уменьшение скорости обучения (learning rate decay)\n",
    "\n",
    "Одна из необходимых оптимизаций во время тренировки нейронных сетей - постепенное уменьшение скорости обучения по мере тренировки.\n",
    "\n",
    "Один из стандартных методов - уменьшение скорости обучения (learning rate) каждые N эпох на коэффициент d (часто называемый decay). Значения N и d, как всегда, являются гиперпараметрами и должны подбираться на основе эффективности на проверочных данных (validation data). \n",
    "\n",
    "В нашем случае N будет равным 1."
   ]
  },
  {
   "cell_type": "code",
   "execution_count": 20,
   "metadata": {},
   "outputs": [
    {
     "name": "stdout",
     "output_type": "stream",
     "text": [
      "Loss: 2.264089, Train accuracy: 0.196667, val accuracy: 0.206000\n",
      "Loss: 2.197698, Train accuracy: 0.196667, val accuracy: 0.206000\n",
      "Loss: 2.262334, Train accuracy: 0.196667, val accuracy: 0.206000\n",
      "Loss: 2.268750, Train accuracy: 0.196667, val accuracy: 0.206000\n",
      "Loss: 2.315680, Train accuracy: 0.196667, val accuracy: 0.206000\n",
      "Loss: 2.198290, Train accuracy: 0.196667, val accuracy: 0.206000\n",
      "Loss: 2.264118, Train accuracy: 0.196667, val accuracy: 0.206000\n",
      "Loss: 2.239789, Train accuracy: 0.196667, val accuracy: 0.206000\n",
      "Loss: 2.238604, Train accuracy: 0.196667, val accuracy: 0.206000\n",
      "Loss: 2.248965, Train accuracy: 0.196667, val accuracy: 0.206000\n",
      "Loss: 2.220957, Train accuracy: 0.196667, val accuracy: 0.206000\n",
      "Loss: 2.266441, Train accuracy: 0.196667, val accuracy: 0.206000\n",
      "Loss: 2.247251, Train accuracy: 0.196667, val accuracy: 0.206000\n",
      "Loss: 2.278941, Train accuracy: 0.196667, val accuracy: 0.206000\n",
      "Loss: 2.299855, Train accuracy: 0.196667, val accuracy: 0.206000\n",
      "Loss: 2.208232, Train accuracy: 0.196667, val accuracy: 0.206000\n",
      "Loss: 2.350540, Train accuracy: 0.196667, val accuracy: 0.206000\n",
      "Loss: 2.250212, Train accuracy: 0.196667, val accuracy: 0.206000\n",
      "Loss: 2.345216, Train accuracy: 0.196667, val accuracy: 0.206000\n",
      "Loss: 2.189578, Train accuracy: 0.196667, val accuracy: 0.206000\n"
     ]
    }
   ],
   "source": [
    "# TODO Implement learning rate decay inside Trainer.fit method\n",
    "# Decay should happen once per epoch\n",
    "\n",
    "model = TwoLayerNet(n_input = train_X.shape[1], n_output = 10, hidden_layer_size = 100, reg = 1e-1)\n",
    "dataset = Dataset(train_X, train_y, val_X, val_y)\n",
    "trainer = Trainer(model, dataset, SGD(), learning_rate_decay=0.99)\n",
    "\n",
    "initial_learning_rate = trainer.learning_rate\n",
    "loss_history, train_history, val_history = trainer.fit()\n",
    "\n",
    "assert trainer.learning_rate < initial_learning_rate, \"Learning rate should've been reduced\"\n",
    "assert trainer.learning_rate > 0.5*initial_learning_rate, \"Learning rate shouldn'tve been reduced that much!\""
   ]
  },
  {
   "cell_type": "markdown",
   "metadata": {},
   "source": [
    "# Накопление импульса (Momentum SGD)\n",
    "\n",
    "Другой большой класс оптимизаций - использование более эффективных методов градиентного спуска. Мы реализуем один из них - накопление импульса (Momentum SGD).\n",
    "\n",
    "Этот метод хранит скорость движения, использует градиент для ее изменения на каждом шаге, и изменяет веса пропорционально значению скорости.\n",
    "(Физическая аналогия: Вместо скорости градиенты теперь будут задавать ускорение, но будет присутствовать сила трения.)\n",
    "\n",
    "```\n",
    "velocity = momentum * velocity - learning_rate * gradient \n",
    "w = w + velocity\n",
    "```\n",
    "\n",
    "`momentum` здесь коэффициент затухания, который тоже является гиперпараметром (к счастью, для него часто есть хорошее значение по умолчанию, типичный диапазон -- 0.8-0.99).\n",
    "\n",
    "Несколько полезных ссылок, где метод разбирается более подробно:  \n",
    "http://cs231n.github.io/neural-networks-3/#sgd  \n",
    "https://distill.pub/2017/momentum/"
   ]
  },
  {
   "cell_type": "code",
   "execution_count": 21,
   "metadata": {},
   "outputs": [
    {
     "name": "stdout",
     "output_type": "stream",
     "text": [
      "Loss: 2.322913, Train accuracy: 0.196667, val accuracy: 0.206000\n",
      "Loss: 2.307057, Train accuracy: 0.196667, val accuracy: 0.206000\n",
      "Loss: 2.308139, Train accuracy: 0.196667, val accuracy: 0.206000\n",
      "Loss: 2.303941, Train accuracy: 0.196667, val accuracy: 0.206000\n",
      "Loss: 2.273144, Train accuracy: 0.196667, val accuracy: 0.206000\n",
      "Loss: 2.299483, Train accuracy: 0.196667, val accuracy: 0.206000\n",
      "Loss: 2.293231, Train accuracy: 0.196667, val accuracy: 0.206000\n",
      "Loss: 2.268944, Train accuracy: 0.196667, val accuracy: 0.206000\n",
      "Loss: 2.305786, Train accuracy: 0.196667, val accuracy: 0.206000\n",
      "Loss: 2.265465, Train accuracy: 0.196667, val accuracy: 0.206000\n",
      "Loss: 2.280080, Train accuracy: 0.196667, val accuracy: 0.206000\n",
      "Loss: 2.269183, Train accuracy: 0.196667, val accuracy: 0.206000\n",
      "Loss: 2.300779, Train accuracy: 0.196667, val accuracy: 0.206000\n",
      "Loss: 2.246529, Train accuracy: 0.196667, val accuracy: 0.206000\n",
      "Loss: 2.314200, Train accuracy: 0.196667, val accuracy: 0.206000\n",
      "Loss: 2.277472, Train accuracy: 0.196667, val accuracy: 0.206000\n",
      "Loss: 2.307551, Train accuracy: 0.196667, val accuracy: 0.206000\n",
      "Loss: 2.288289, Train accuracy: 0.196667, val accuracy: 0.206000\n",
      "Loss: 2.233179, Train accuracy: 0.196667, val accuracy: 0.206000\n",
      "Loss: 2.329441, Train accuracy: 0.196667, val accuracy: 0.206000\n"
     ]
    }
   ],
   "source": [
    "# TODO: Implement MomentumSGD.update function in optim.py\n",
    "\n",
    "model = TwoLayerNet(n_input = train_X.shape[1], n_output = 10, hidden_layer_size = 100, reg = 1e-1)\n",
    "dataset = Dataset(train_X, train_y, val_X, val_y)\n",
    "trainer = Trainer(model, dataset, MomentumSGD(), learning_rate=1e-4, learning_rate_decay=0.99)\n",
    "\n",
    "# You should see even better results than before!\n",
    "loss_history, train_history, val_history = trainer.fit()"
   ]
  },
  {
   "cell_type": "markdown",
   "metadata": {},
   "source": [
    "# Ну что, давайте уже тренировать сеть!"
   ]
  },
  {
   "cell_type": "markdown",
   "metadata": {},
   "source": [
    "## Последний тест - переобучимся (overfit) на маленьком наборе данных\n",
    "\n",
    "Хороший способ проверить, все ли реализовано корректно - переобучить сеть на маленьком наборе данных.  \n",
    "Наша модель обладает достаточной мощностью, чтобы приблизить маленький набор данных идеально, поэтому мы ожидаем, что на нем мы быстро дойдем до 100% точности на тренировочном наборе. \n",
    "\n",
    "Если этого не происходит, то где-то была допущена ошибка!"
   ]
  },
  {
   "cell_type": "code",
   "execution_count": 44,
   "metadata": {},
   "outputs": [
    {
     "name": "stdout",
     "output_type": "stream",
     "text": [
      "Loss: 2.342957, Train accuracy: 0.200000, val accuracy: 0.066667\n",
      "Loss: 2.311636, Train accuracy: 0.200000, val accuracy: 0.066667\n",
      "Loss: 2.332834, Train accuracy: 0.200000, val accuracy: 0.066667\n",
      "Loss: 2.316330, Train accuracy: 0.200000, val accuracy: 0.066667\n",
      "Loss: 2.282238, Train accuracy: 0.266667, val accuracy: 0.000000\n",
      "Loss: 2.233325, Train accuracy: 0.266667, val accuracy: 0.000000\n",
      "Loss: 2.230714, Train accuracy: 0.266667, val accuracy: 0.000000\n",
      "Loss: 2.202673, Train accuracy: 0.266667, val accuracy: 0.000000\n",
      "Loss: 2.335559, Train accuracy: 0.266667, val accuracy: 0.000000\n",
      "Loss: 2.332069, Train accuracy: 0.400000, val accuracy: 0.000000\n",
      "Loss: 1.722193, Train accuracy: 0.400000, val accuracy: 0.000000\n",
      "Loss: 2.078666, Train accuracy: 0.400000, val accuracy: 0.000000\n",
      "Loss: 2.076003, Train accuracy: 0.400000, val accuracy: 0.000000\n",
      "Loss: 1.740053, Train accuracy: 0.333333, val accuracy: 0.000000\n",
      "Loss: 2.019229, Train accuracy: 0.333333, val accuracy: 0.000000\n",
      "Loss: 1.947468, Train accuracy: 0.333333, val accuracy: 0.000000\n",
      "Loss: 1.941301, Train accuracy: 0.400000, val accuracy: 0.000000\n",
      "Loss: 1.969634, Train accuracy: 0.400000, val accuracy: 0.000000\n",
      "Loss: 1.991997, Train accuracy: 0.400000, val accuracy: 0.000000\n",
      "Loss: 2.040924, Train accuracy: 0.466667, val accuracy: 0.000000\n",
      "Loss: 1.652951, Train accuracy: 0.400000, val accuracy: 0.000000\n",
      "Loss: 2.341993, Train accuracy: 0.400000, val accuracy: 0.066667\n",
      "Loss: 2.395904, Train accuracy: 0.466667, val accuracy: 0.066667\n",
      "Loss: 1.698634, Train accuracy: 0.400000, val accuracy: 0.000000\n",
      "Loss: 1.651230, Train accuracy: 0.466667, val accuracy: 0.000000\n",
      "Loss: 2.194853, Train accuracy: 0.466667, val accuracy: 0.066667\n",
      "Loss: 1.642071, Train accuracy: 0.400000, val accuracy: 0.066667\n",
      "Loss: 1.602734, Train accuracy: 0.466667, val accuracy: 0.000000\n",
      "Loss: 1.666241, Train accuracy: 0.466667, val accuracy: 0.066667\n",
      "Loss: 1.448051, Train accuracy: 0.466667, val accuracy: 0.066667\n",
      "Loss: 1.566279, Train accuracy: 0.600000, val accuracy: 0.066667\n",
      "Loss: 1.973936, Train accuracy: 0.533333, val accuracy: 0.066667\n",
      "Loss: 1.277293, Train accuracy: 0.466667, val accuracy: 0.066667\n",
      "Loss: 1.330146, Train accuracy: 0.600000, val accuracy: 0.066667\n",
      "Loss: 2.038771, Train accuracy: 0.600000, val accuracy: 0.066667\n",
      "Loss: 1.918654, Train accuracy: 0.600000, val accuracy: 0.066667\n",
      "Loss: 2.103503, Train accuracy: 0.600000, val accuracy: 0.066667\n",
      "Loss: 1.918924, Train accuracy: 0.600000, val accuracy: 0.066667\n",
      "Loss: 1.920605, Train accuracy: 0.600000, val accuracy: 0.066667\n",
      "Loss: 1.316457, Train accuracy: 0.533333, val accuracy: 0.066667\n",
      "Loss: 1.711784, Train accuracy: 0.600000, val accuracy: 0.066667\n",
      "Loss: 1.501488, Train accuracy: 0.600000, val accuracy: 0.066667\n",
      "Loss: 1.776696, Train accuracy: 0.666667, val accuracy: 0.066667\n",
      "Loss: 1.814473, Train accuracy: 0.666667, val accuracy: 0.066667\n",
      "Loss: 1.746446, Train accuracy: 0.666667, val accuracy: 0.066667\n",
      "Loss: 1.571559, Train accuracy: 0.666667, val accuracy: 0.066667\n",
      "Loss: 1.639927, Train accuracy: 0.666667, val accuracy: 0.066667\n",
      "Loss: 2.079112, Train accuracy: 0.733333, val accuracy: 0.066667\n",
      "Loss: 1.440051, Train accuracy: 0.733333, val accuracy: 0.066667\n",
      "Loss: 1.111470, Train accuracy: 0.733333, val accuracy: 0.066667\n",
      "Loss: 2.264375, Train accuracy: 0.800000, val accuracy: 0.066667\n",
      "Loss: 1.602955, Train accuracy: 0.733333, val accuracy: 0.066667\n",
      "Loss: 1.429096, Train accuracy: 0.733333, val accuracy: 0.066667\n",
      "Loss: 0.852976, Train accuracy: 0.733333, val accuracy: 0.000000\n",
      "Loss: 1.307625, Train accuracy: 0.733333, val accuracy: 0.000000\n",
      "Loss: 1.579725, Train accuracy: 0.800000, val accuracy: 0.066667\n",
      "Loss: 1.653353, Train accuracy: 0.800000, val accuracy: 0.066667\n",
      "Loss: 1.785009, Train accuracy: 0.800000, val accuracy: 0.066667\n",
      "Loss: 1.811261, Train accuracy: 0.733333, val accuracy: 0.000000\n",
      "Loss: 1.861357, Train accuracy: 0.733333, val accuracy: 0.066667\n",
      "Loss: 1.321177, Train accuracy: 0.800000, val accuracy: 0.000000\n",
      "Loss: 2.094729, Train accuracy: 0.733333, val accuracy: 0.066667\n",
      "Loss: 1.729937, Train accuracy: 0.733333, val accuracy: 0.133333\n",
      "Loss: 1.336717, Train accuracy: 0.733333, val accuracy: 0.066667\n",
      "Loss: 1.457502, Train accuracy: 0.800000, val accuracy: 0.000000\n",
      "Loss: 1.283182, Train accuracy: 0.800000, val accuracy: 0.000000\n",
      "Loss: 0.991332, Train accuracy: 0.733333, val accuracy: 0.066667\n",
      "Loss: 0.871724, Train accuracy: 0.800000, val accuracy: 0.000000\n",
      "Loss: 1.412868, Train accuracy: 0.733333, val accuracy: 0.066667\n",
      "Loss: 1.326974, Train accuracy: 0.800000, val accuracy: 0.000000\n",
      "Loss: 1.580451, Train accuracy: 0.800000, val accuracy: 0.066667\n",
      "Loss: 1.380869, Train accuracy: 0.733333, val accuracy: 0.066667\n",
      "Loss: 0.941591, Train accuracy: 0.733333, val accuracy: 0.066667\n",
      "Loss: 1.648288, Train accuracy: 0.733333, val accuracy: 0.066667\n",
      "Loss: 1.544298, Train accuracy: 0.866667, val accuracy: 0.066667\n",
      "Loss: 1.652884, Train accuracy: 0.866667, val accuracy: 0.066667\n",
      "Loss: 1.566436, Train accuracy: 0.866667, val accuracy: 0.066667\n",
      "Loss: 1.605937, Train accuracy: 0.866667, val accuracy: 0.066667\n",
      "Loss: 1.382252, Train accuracy: 0.866667, val accuracy: 0.066667\n",
      "Loss: 1.367748, Train accuracy: 0.866667, val accuracy: 0.066667\n",
      "Loss: 0.981631, Train accuracy: 0.866667, val accuracy: 0.066667\n",
      "Loss: 1.297559, Train accuracy: 0.866667, val accuracy: 0.066667\n",
      "Loss: 0.902365, Train accuracy: 0.866667, val accuracy: 0.066667\n",
      "Loss: 0.878961, Train accuracy: 0.866667, val accuracy: 0.066667\n",
      "Loss: 1.344418, Train accuracy: 0.866667, val accuracy: 0.066667\n",
      "Loss: 1.356269, Train accuracy: 0.866667, val accuracy: 0.066667\n",
      "Loss: 1.291694, Train accuracy: 0.866667, val accuracy: 0.066667\n",
      "Loss: 1.349298, Train accuracy: 0.866667, val accuracy: 0.066667\n",
      "Loss: 1.715480, Train accuracy: 0.866667, val accuracy: 0.066667\n",
      "Loss: 1.126268, Train accuracy: 0.866667, val accuracy: 0.066667\n",
      "Loss: 1.567259, Train accuracy: 0.866667, val accuracy: 0.066667\n",
      "Loss: 1.235725, Train accuracy: 0.866667, val accuracy: 0.066667\n",
      "Loss: 1.536593, Train accuracy: 0.866667, val accuracy: 0.066667\n",
      "Loss: 1.015744, Train accuracy: 0.866667, val accuracy: 0.066667\n",
      "Loss: 1.589619, Train accuracy: 0.866667, val accuracy: 0.066667\n",
      "Loss: 1.072251, Train accuracy: 0.866667, val accuracy: 0.066667\n",
      "Loss: 1.029202, Train accuracy: 0.866667, val accuracy: 0.066667\n",
      "Loss: 0.976282, Train accuracy: 0.866667, val accuracy: 0.066667\n",
      "Loss: 1.335182, Train accuracy: 0.866667, val accuracy: 0.066667\n",
      "Loss: 1.617012, Train accuracy: 0.866667, val accuracy: 0.066667\n",
      "Loss: 1.189997, Train accuracy: 0.866667, val accuracy: 0.066667\n",
      "Loss: 1.561110, Train accuracy: 0.866667, val accuracy: 0.066667\n",
      "Loss: 1.467262, Train accuracy: 0.866667, val accuracy: 0.066667\n",
      "Loss: 1.847646, Train accuracy: 0.866667, val accuracy: 0.066667\n",
      "Loss: 1.296867, Train accuracy: 0.866667, val accuracy: 0.066667\n",
      "Loss: 1.055194, Train accuracy: 0.866667, val accuracy: 0.066667\n",
      "Loss: 1.448198, Train accuracy: 0.866667, val accuracy: 0.066667\n",
      "Loss: 1.046712, Train accuracy: 0.866667, val accuracy: 0.066667\n",
      "Loss: 1.453593, Train accuracy: 0.933333, val accuracy: 0.066667\n",
      "Loss: 1.026861, Train accuracy: 0.933333, val accuracy: 0.066667\n",
      "Loss: 1.344269, Train accuracy: 0.933333, val accuracy: 0.066667\n",
      "Loss: 1.741762, Train accuracy: 0.933333, val accuracy: 0.066667\n",
      "Loss: 1.166792, Train accuracy: 0.933333, val accuracy: 0.066667\n",
      "Loss: 1.242371, Train accuracy: 0.866667, val accuracy: 0.066667\n",
      "Loss: 1.477386, Train accuracy: 0.933333, val accuracy: 0.066667\n",
      "Loss: 1.388577, Train accuracy: 0.933333, val accuracy: 0.066667\n",
      "Loss: 1.540980, Train accuracy: 0.933333, val accuracy: 0.066667\n",
      "Loss: 1.125020, Train accuracy: 0.933333, val accuracy: 0.066667\n",
      "Loss: 1.127531, Train accuracy: 0.933333, val accuracy: 0.066667\n",
      "Loss: 1.561592, Train accuracy: 0.933333, val accuracy: 0.066667\n",
      "Loss: 0.961182, Train accuracy: 0.933333, val accuracy: 0.066667\n",
      "Loss: 1.219822, Train accuracy: 0.933333, val accuracy: 0.066667\n",
      "Loss: 1.523281, Train accuracy: 0.933333, val accuracy: 0.066667\n",
      "Loss: 1.144241, Train accuracy: 0.933333, val accuracy: 0.066667\n",
      "Loss: 1.374657, Train accuracy: 0.933333, val accuracy: 0.066667\n",
      "Loss: 1.139446, Train accuracy: 0.933333, val accuracy: 0.066667\n",
      "Loss: 1.170985, Train accuracy: 0.933333, val accuracy: 0.066667\n",
      "Loss: 1.319282, Train accuracy: 1.000000, val accuracy: 0.066667\n",
      "Loss: 1.266116, Train accuracy: 1.000000, val accuracy: 0.066667\n",
      "Loss: 1.336012, Train accuracy: 1.000000, val accuracy: 0.066667\n",
      "Loss: 1.568399, Train accuracy: 1.000000, val accuracy: 0.066667\n",
      "Loss: 1.589429, Train accuracy: 1.000000, val accuracy: 0.066667\n",
      "Loss: 1.590769, Train accuracy: 1.000000, val accuracy: 0.066667\n",
      "Loss: 1.481877, Train accuracy: 1.000000, val accuracy: 0.066667\n",
      "Loss: 1.425826, Train accuracy: 1.000000, val accuracy: 0.066667\n",
      "Loss: 1.335007, Train accuracy: 1.000000, val accuracy: 0.066667\n",
      "Loss: 1.327244, Train accuracy: 1.000000, val accuracy: 0.000000\n",
      "Loss: 1.198205, Train accuracy: 1.000000, val accuracy: 0.000000\n",
      "Loss: 1.191264, Train accuracy: 1.000000, val accuracy: 0.066667\n",
      "Loss: 1.222733, Train accuracy: 1.000000, val accuracy: 0.066667\n",
      "Loss: 1.485939, Train accuracy: 1.000000, val accuracy: 0.066667\n",
      "Loss: 1.287684, Train accuracy: 1.000000, val accuracy: 0.066667\n",
      "Loss: 1.432970, Train accuracy: 1.000000, val accuracy: 0.066667\n",
      "Loss: 1.210355, Train accuracy: 1.000000, val accuracy: 0.066667\n",
      "Loss: 1.223031, Train accuracy: 1.000000, val accuracy: 0.000000\n",
      "Loss: 1.532658, Train accuracy: 1.000000, val accuracy: 0.066667\n",
      "Loss: 1.184055, Train accuracy: 1.000000, val accuracy: 0.066667\n",
      "Loss: 1.517725, Train accuracy: 1.000000, val accuracy: 0.133333\n",
      "Loss: 1.391947, Train accuracy: 1.000000, val accuracy: 0.066667\n",
      "Loss: 1.068916, Train accuracy: 1.000000, val accuracy: 0.066667\n"
     ]
    }
   ],
   "source": [
    "data_size = 15\n",
    "model = TwoLayerNet(n_input = train_X.shape[1], n_output = 10, hidden_layer_size = 100, reg = 1e-1)\n",
    "dataset = Dataset(train_X[:data_size], train_y[:data_size], val_X[:data_size], val_y[:data_size])\n",
    "trainer = Trainer(model, dataset, SGD(), learning_rate=1e-1, num_epochs=150, batch_size=5)\n",
    "\n",
    "# You should expect this to reach 1.0 training accuracy \n",
    "loss_history, train_history, val_history = trainer.fit()"
   ]
  },
  {
   "cell_type": "markdown",
   "metadata": {},
   "source": [
    "Теперь найдем гипепараметры, для которых этот процесс сходится быстрее.\n",
    "Если все реализовано корректно, то существуют параметры, при которых процесс сходится в **20** эпох или еще быстрее.\n",
    "Найдите их!"
   ]
  },
  {
   "cell_type": "code",
   "execution_count": 46,
   "metadata": {},
   "outputs": [
    {
     "name": "stdout",
     "output_type": "stream",
     "text": [
      "Loss: 2.373770, Train accuracy: 0.200000, val accuracy: 0.133333\n",
      "Loss: 2.300900, Train accuracy: 0.200000, val accuracy: 0.133333\n",
      "Loss: 2.143942, Train accuracy: 0.266667, val accuracy: 0.133333\n",
      "Loss: 2.096853, Train accuracy: 0.400000, val accuracy: 0.000000\n",
      "Loss: 3.318442, Train accuracy: 0.333333, val accuracy: 0.066667\n",
      "Loss: 1.945372, Train accuracy: 0.266667, val accuracy: 0.066667\n",
      "Loss: 2.456275, Train accuracy: 0.400000, val accuracy: 0.000000\n",
      "Loss: 1.848604, Train accuracy: 0.466667, val accuracy: 0.000000\n",
      "Loss: 1.745256, Train accuracy: 0.466667, val accuracy: 0.000000\n",
      "Loss: 2.463539, Train accuracy: 0.533333, val accuracy: 0.000000\n",
      "Loss: 2.021869, Train accuracy: 0.533333, val accuracy: 0.000000\n",
      "Loss: 2.380531, Train accuracy: 0.666667, val accuracy: 0.000000\n",
      "Loss: 0.711171, Train accuracy: 0.666667, val accuracy: 0.000000\n",
      "Loss: 2.310054, Train accuracy: 0.600000, val accuracy: 0.066667\n",
      "Loss: 0.006860, Train accuracy: 0.666667, val accuracy: 0.000000\n",
      "Loss: 0.007008, Train accuracy: 0.800000, val accuracy: 0.066667\n",
      "Loss: 0.296175, Train accuracy: 0.866667, val accuracy: 0.066667\n",
      "Loss: 0.080656, Train accuracy: 0.933333, val accuracy: 0.000000\n",
      "Loss: 0.005703, Train accuracy: 0.933333, val accuracy: 0.000000\n",
      "Loss: 0.003041, Train accuracy: 0.933333, val accuracy: 0.000000\n"
     ]
    }
   ],
   "source": [
    "# Now, tweak some hyper parameters and make it train to 1.0 accuracy in 20 epochs or less\n",
    "\n",
    "model = TwoLayerNet(n_input = train_X.shape[1], n_output = 10, hidden_layer_size = 100, reg = 1e-4)\n",
    "dataset = Dataset(train_X[:data_size], train_y[:data_size], val_X[:data_size], val_y[:data_size])\n",
    "# TODO: Change any hyperparamers or optimizators to reach training accuracy in 20 epochs\n",
    "trainer = Trainer(model, dataset, SGD(), learning_rate=1e-1, num_epochs=20, batch_size=2)\n",
    "\n",
    "loss_history, train_history, val_history = trainer.fit()"
   ]
  },
  {
   "cell_type": "markdown",
   "metadata": {},
   "source": [
    "# Итак, основное мероприятие!\n",
    "\n",
    "Натренируйте лучшую нейросеть! Можно добавлять и изменять параметры, менять количество нейронов в слоях сети и как угодно экспериментировать. \n",
    "\n",
    "Добейтесь точности лучше **60%** на validation set."
   ]
  },
  {
   "cell_type": "code",
   "execution_count": 48,
   "metadata": {
    "scrolled": true
   },
   "outputs": [
    {
     "name": "stdout",
     "output_type": "stream",
     "text": [
      "Loss: 1.908314, Train accuracy: 0.303333, val accuracy: 0.308000\n",
      "Loss: 1.587410, Train accuracy: 0.543333, val accuracy: 0.569000\n",
      "Loss: 1.470515, Train accuracy: 0.594667, val accuracy: 0.560000\n",
      "Loss: 1.835399, Train accuracy: 0.573222, val accuracy: 0.548000\n",
      "Loss: 1.510640, Train accuracy: 0.578556, val accuracy: 0.581000\n",
      "Loss: 1.616622, Train accuracy: 0.613556, val accuracy: 0.589000\n",
      "Loss: 1.212909, Train accuracy: 0.590444, val accuracy: 0.576000\n",
      "Loss: 1.264907, Train accuracy: 0.622222, val accuracy: 0.596000\n",
      "Loss: 1.477225, Train accuracy: 0.624889, val accuracy: 0.585000\n",
      "Loss: 1.525557, Train accuracy: 0.616444, val accuracy: 0.598000\n",
      "Loss: 1.691976, Train accuracy: 0.632889, val accuracy: 0.593000\n",
      "Loss: 1.570408, Train accuracy: 0.651222, val accuracy: 0.620000\n",
      "Loss: 1.600679, Train accuracy: 0.648111, val accuracy: 0.600000\n",
      "Loss: 1.346096, Train accuracy: 0.675333, val accuracy: 0.647000\n",
      "Loss: 2.285592, Train accuracy: 0.605222, val accuracy: 0.564000\n",
      "Loss: 1.607015, Train accuracy: 0.660333, val accuracy: 0.617000\n",
      "Loss: 2.240284, Train accuracy: 0.196667, val accuracy: 0.206000\n",
      "Loss: 1.890262, Train accuracy: 0.387222, val accuracy: 0.386000\n",
      "Loss: 1.451311, Train accuracy: 0.548889, val accuracy: 0.538000\n",
      "Loss: 1.368573, Train accuracy: 0.630889, val accuracy: 0.629000\n",
      "Loss: 1.345853, Train accuracy: 0.676000, val accuracy: 0.649000\n",
      "Loss: 1.543890, Train accuracy: 0.677556, val accuracy: 0.645000\n",
      "Loss: 1.211058, Train accuracy: 0.676111, val accuracy: 0.650000\n",
      "Loss: 1.442643, Train accuracy: 0.716000, val accuracy: 0.686000\n",
      "Loss: 1.299816, Train accuracy: 0.694333, val accuracy: 0.647000\n",
      "Loss: 0.986679, Train accuracy: 0.743222, val accuracy: 0.705000\n",
      "Loss: 1.106239, Train accuracy: 0.719222, val accuracy: 0.662000\n",
      "Loss: 1.296073, Train accuracy: 0.716889, val accuracy: 0.666000\n",
      "Loss: 1.323917, Train accuracy: 0.718778, val accuracy: 0.672000\n",
      "Loss: 1.252392, Train accuracy: 0.721222, val accuracy: 0.680000\n",
      "Loss: 0.919890, Train accuracy: 0.717444, val accuracy: 0.661000\n",
      "Loss: 1.097667, Train accuracy: 0.748333, val accuracy: 0.682000\n",
      "Loss: 1.995845, Train accuracy: 0.323222, val accuracy: 0.318000\n",
      "Loss: 1.364937, Train accuracy: 0.565889, val accuracy: 0.560000\n",
      "Loss: 1.640478, Train accuracy: 0.586667, val accuracy: 0.576000\n",
      "Loss: 1.577744, Train accuracy: 0.590778, val accuracy: 0.587000\n",
      "Loss: 0.927361, Train accuracy: 0.628222, val accuracy: 0.602000\n",
      "Loss: 1.485192, Train accuracy: 0.645111, val accuracy: 0.588000\n",
      "Loss: 1.574430, Train accuracy: 0.629556, val accuracy: 0.583000\n",
      "Loss: 1.376535, Train accuracy: 0.670000, val accuracy: 0.645000\n",
      "Loss: 1.193349, Train accuracy: 0.645222, val accuracy: 0.617000\n",
      "Loss: 1.975251, Train accuracy: 0.620444, val accuracy: 0.566000\n",
      "Loss: 1.465890, Train accuracy: 0.650667, val accuracy: 0.596000\n",
      "Loss: 1.764055, Train accuracy: 0.642667, val accuracy: 0.601000\n",
      "Loss: 1.717371, Train accuracy: 0.634222, val accuracy: 0.602000\n",
      "Loss: 1.942629, Train accuracy: 0.568556, val accuracy: 0.508000\n",
      "Loss: 1.553523, Train accuracy: 0.614667, val accuracy: 0.586000\n",
      "Loss: 1.933857, Train accuracy: 0.627000, val accuracy: 0.592000\n",
      "Loss: 2.268087, Train accuracy: 0.196667, val accuracy: 0.206000\n",
      "Loss: 1.775488, Train accuracy: 0.442444, val accuracy: 0.442000\n",
      "Loss: 1.302060, Train accuracy: 0.575222, val accuracy: 0.563000\n",
      "Loss: 1.205340, Train accuracy: 0.632667, val accuracy: 0.623000\n",
      "Loss: 1.558687, Train accuracy: 0.660000, val accuracy: 0.627000\n",
      "Loss: 1.580946, Train accuracy: 0.708667, val accuracy: 0.681000\n",
      "Loss: 1.161668, Train accuracy: 0.675889, val accuracy: 0.631000\n",
      "Loss: 1.204003, Train accuracy: 0.700778, val accuracy: 0.666000\n",
      "Loss: 1.665789, Train accuracy: 0.732667, val accuracy: 0.689000\n",
      "Loss: 1.155534, Train accuracy: 0.714556, val accuracy: 0.676000\n",
      "Loss: 1.070595, Train accuracy: 0.746667, val accuracy: 0.681000\n",
      "Loss: 1.093154, Train accuracy: 0.709222, val accuracy: 0.650000\n",
      "Loss: 1.140591, Train accuracy: 0.712000, val accuracy: 0.671000\n",
      "Loss: 1.092079, Train accuracy: 0.748333, val accuracy: 0.676000\n",
      "Loss: 1.067981, Train accuracy: 0.700444, val accuracy: 0.648000\n",
      "Loss: 0.869555, Train accuracy: 0.753333, val accuracy: 0.690000\n",
      "Loss: 1.752240, Train accuracy: 0.366667, val accuracy: 0.372000\n",
      "Loss: 1.819789, Train accuracy: 0.513556, val accuracy: 0.497000\n",
      "Loss: 3.615476, Train accuracy: 0.518889, val accuracy: 0.506000\n",
      "Loss: 1.506810, Train accuracy: 0.623333, val accuracy: 0.567000\n",
      "Loss: 1.700936, Train accuracy: 0.632667, val accuracy: 0.606000\n",
      "Loss: 1.877910, Train accuracy: 0.594667, val accuracy: 0.584000\n",
      "Loss: 2.065828, Train accuracy: 0.629111, val accuracy: 0.609000\n",
      "Loss: 1.736721, Train accuracy: 0.651778, val accuracy: 0.603000\n",
      "Loss: 2.091036, Train accuracy: 0.622556, val accuracy: 0.583000\n",
      "Loss: 1.959206, Train accuracy: 0.605667, val accuracy: 0.590000\n",
      "Loss: 1.630943, Train accuracy: 0.626111, val accuracy: 0.610000\n",
      "Loss: 1.618740, Train accuracy: 0.699000, val accuracy: 0.638000\n",
      "Loss: 1.560866, Train accuracy: 0.649667, val accuracy: 0.613000\n",
      "Loss: 1.632606, Train accuracy: 0.622889, val accuracy: 0.581000\n",
      "Loss: 1.748926, Train accuracy: 0.656333, val accuracy: 0.614000\n",
      "Loss: 1.120672, Train accuracy: 0.663222, val accuracy: 0.619000\n",
      "Loss: 2.165599, Train accuracy: 0.197222, val accuracy: 0.206000\n",
      "Loss: 1.509582, Train accuracy: 0.438111, val accuracy: 0.428000\n",
      "Loss: 1.499977, Train accuracy: 0.549222, val accuracy: 0.552000\n",
      "Loss: 1.539671, Train accuracy: 0.618778, val accuracy: 0.612000\n",
      "Loss: 1.701071, Train accuracy: 0.680333, val accuracy: 0.671000\n",
      "Loss: 1.282470, Train accuracy: 0.669778, val accuracy: 0.624000\n",
      "Loss: 1.210251, Train accuracy: 0.684778, val accuracy: 0.639000\n",
      "Loss: 1.040925, Train accuracy: 0.717333, val accuracy: 0.670000\n",
      "Loss: 0.916936, Train accuracy: 0.695333, val accuracy: 0.643000\n",
      "Loss: 1.243524, Train accuracy: 0.724667, val accuracy: 0.670000\n",
      "Loss: 1.581725, Train accuracy: 0.743556, val accuracy: 0.699000\n",
      "Loss: 1.195483, Train accuracy: 0.739889, val accuracy: 0.667000\n",
      "Loss: 1.180225, Train accuracy: 0.728778, val accuracy: 0.690000\n",
      "Loss: 1.621309, Train accuracy: 0.712222, val accuracy: 0.648000\n",
      "Loss: 0.888486, Train accuracy: 0.779444, val accuracy: 0.703000\n",
      "Loss: 1.041191, Train accuracy: 0.767222, val accuracy: 0.693000\n",
      "Loss: 1.463409, Train accuracy: 0.330667, val accuracy: 0.319000\n",
      "Loss: 1.654739, Train accuracy: 0.514889, val accuracy: 0.486000\n",
      "Loss: 1.602073, Train accuracy: 0.605556, val accuracy: 0.599000\n",
      "Loss: 1.797857, Train accuracy: 0.610333, val accuracy: 0.569000\n",
      "Loss: 1.695793, Train accuracy: 0.648111, val accuracy: 0.613000\n",
      "Loss: 1.129000, Train accuracy: 0.686444, val accuracy: 0.658000\n",
      "Loss: 1.094421, Train accuracy: 0.699444, val accuracy: 0.625000\n",
      "Loss: 2.196792, Train accuracy: 0.700111, val accuracy: 0.643000\n",
      "Loss: 0.893560, Train accuracy: 0.681667, val accuracy: 0.644000\n",
      "Loss: 0.656144, Train accuracy: 0.676667, val accuracy: 0.608000\n",
      "Loss: 1.014352, Train accuracy: 0.724667, val accuracy: 0.664000\n",
      "Loss: 0.744369, Train accuracy: 0.751444, val accuracy: 0.681000\n",
      "Loss: 0.792793, Train accuracy: 0.741889, val accuracy: 0.669000\n",
      "Loss: 0.984961, Train accuracy: 0.705000, val accuracy: 0.638000\n",
      "Loss: 1.072172, Train accuracy: 0.739333, val accuracy: 0.675000\n",
      "Loss: 1.122881, Train accuracy: 0.719111, val accuracy: 0.656000\n",
      "Loss: 2.124855, Train accuracy: 0.196667, val accuracy: 0.206000\n",
      "Loss: 1.828903, Train accuracy: 0.420111, val accuracy: 0.417000\n",
      "Loss: 1.113961, Train accuracy: 0.528889, val accuracy: 0.525000\n",
      "Loss: 1.155720, Train accuracy: 0.625667, val accuracy: 0.604000\n",
      "Loss: 1.012419, Train accuracy: 0.652222, val accuracy: 0.622000\n",
      "Loss: 1.161814, Train accuracy: 0.662778, val accuracy: 0.633000\n",
      "Loss: 0.765014, Train accuracy: 0.717000, val accuracy: 0.678000\n",
      "Loss: 1.049408, Train accuracy: 0.719222, val accuracy: 0.673000\n",
      "Loss: 1.001677, Train accuracy: 0.712444, val accuracy: 0.678000\n",
      "Loss: 0.728253, Train accuracy: 0.746222, val accuracy: 0.674000\n",
      "Loss: 0.887512, Train accuracy: 0.783889, val accuracy: 0.717000\n",
      "Loss: 0.912233, Train accuracy: 0.777222, val accuracy: 0.704000\n",
      "Loss: 0.633760, Train accuracy: 0.779111, val accuracy: 0.689000\n",
      "Loss: 0.710982, Train accuracy: 0.798111, val accuracy: 0.718000\n",
      "Loss: 0.991838, Train accuracy: 0.798778, val accuracy: 0.708000\n",
      "Loss: 0.525472, Train accuracy: 0.802889, val accuracy: 0.714000\n",
      "Loss: 1.968914, Train accuracy: 0.342667, val accuracy: 0.380000\n",
      "Loss: 1.807429, Train accuracy: 0.476222, val accuracy: 0.489000\n",
      "Loss: 1.568483, Train accuracy: 0.573222, val accuracy: 0.558000\n",
      "Loss: 0.986484, Train accuracy: 0.630889, val accuracy: 0.603000\n",
      "Loss: 1.114655, Train accuracy: 0.648000, val accuracy: 0.617000\n",
      "Loss: 0.965215, Train accuracy: 0.683000, val accuracy: 0.644000\n",
      "Loss: 1.385140, Train accuracy: 0.676444, val accuracy: 0.620000\n",
      "Loss: 1.815554, Train accuracy: 0.692667, val accuracy: 0.631000\n",
      "Loss: 1.197700, Train accuracy: 0.721556, val accuracy: 0.681000\n",
      "Loss: 1.155970, Train accuracy: 0.729667, val accuracy: 0.666000\n",
      "Loss: 0.722764, Train accuracy: 0.705556, val accuracy: 0.636000\n",
      "Loss: 0.715405, Train accuracy: 0.747222, val accuracy: 0.661000\n",
      "Loss: 1.339477, Train accuracy: 0.723333, val accuracy: 0.637000\n",
      "Loss: 0.969401, Train accuracy: 0.732333, val accuracy: 0.654000\n",
      "Loss: 1.601644, Train accuracy: 0.757778, val accuracy: 0.661000\n",
      "Loss: 0.445576, Train accuracy: 0.762667, val accuracy: 0.687000\n",
      "Loss: 2.243420, Train accuracy: 0.196667, val accuracy: 0.206000\n",
      "Loss: 1.368847, Train accuracy: 0.426778, val accuracy: 0.450000\n",
      "Loss: 1.701100, Train accuracy: 0.586333, val accuracy: 0.569000\n",
      "Loss: 1.190525, Train accuracy: 0.607111, val accuracy: 0.609000\n",
      "Loss: 1.190876, Train accuracy: 0.667000, val accuracy: 0.648000\n",
      "Loss: 1.039917, Train accuracy: 0.721333, val accuracy: 0.691000\n",
      "Loss: 0.628597, Train accuracy: 0.717222, val accuracy: 0.688000\n",
      "Loss: 0.938882, Train accuracy: 0.705889, val accuracy: 0.658000\n",
      "Loss: 1.284745, Train accuracy: 0.763333, val accuracy: 0.692000\n",
      "Loss: 0.811116, Train accuracy: 0.773000, val accuracy: 0.709000\n",
      "Loss: 0.533031, Train accuracy: 0.760556, val accuracy: 0.683000\n",
      "Loss: 0.671088, Train accuracy: 0.763667, val accuracy: 0.676000\n",
      "Loss: 0.855728, Train accuracy: 0.796889, val accuracy: 0.714000\n",
      "Loss: 0.741029, Train accuracy: 0.802556, val accuracy: 0.714000\n",
      "Loss: 0.886378, Train accuracy: 0.820556, val accuracy: 0.724000\n",
      "Loss: 0.485183, Train accuracy: 0.827667, val accuracy: 0.727000\n",
      "Loss: 2.092130, Train accuracy: 0.343000, val accuracy: 0.336000\n",
      "Loss: 1.543620, Train accuracy: 0.539222, val accuracy: 0.550000\n",
      "Loss: 1.135909, Train accuracy: 0.583222, val accuracy: 0.552000\n",
      "Loss: 1.746198, Train accuracy: 0.673111, val accuracy: 0.623000\n",
      "Loss: 1.029034, Train accuracy: 0.652111, val accuracy: 0.626000\n",
      "Loss: 1.268769, Train accuracy: 0.679667, val accuracy: 0.618000\n",
      "Loss: 1.380230, Train accuracy: 0.675556, val accuracy: 0.604000\n",
      "Loss: 1.066432, Train accuracy: 0.711667, val accuracy: 0.649000\n",
      "Loss: 1.307848, Train accuracy: 0.757556, val accuracy: 0.674000\n",
      "Loss: 0.910572, Train accuracy: 0.696111, val accuracy: 0.634000\n",
      "Loss: 0.723525, Train accuracy: 0.723111, val accuracy: 0.653000\n",
      "Loss: 1.082318, Train accuracy: 0.754333, val accuracy: 0.668000\n",
      "Loss: 1.094156, Train accuracy: 0.735667, val accuracy: 0.646000\n",
      "Loss: 1.161976, Train accuracy: 0.769111, val accuracy: 0.664000\n",
      "Loss: 1.497085, Train accuracy: 0.753444, val accuracy: 0.675000\n",
      "Loss: 1.057314, Train accuracy: 0.783444, val accuracy: 0.683000\n",
      "Loss: 2.109903, Train accuracy: 0.222333, val accuracy: 0.224000\n",
      "Loss: 1.609717, Train accuracy: 0.429556, val accuracy: 0.433000\n",
      "Loss: 1.302625, Train accuracy: 0.573000, val accuracy: 0.562000\n",
      "Loss: 1.404599, Train accuracy: 0.653444, val accuracy: 0.607000\n",
      "Loss: 1.504804, Train accuracy: 0.649222, val accuracy: 0.635000\n",
      "Loss: 0.883390, Train accuracy: 0.694000, val accuracy: 0.661000\n",
      "Loss: 0.891314, Train accuracy: 0.687444, val accuracy: 0.645000\n",
      "Loss: 1.055519, Train accuracy: 0.731778, val accuracy: 0.688000\n",
      "Loss: 0.836520, Train accuracy: 0.731222, val accuracy: 0.673000\n",
      "Loss: 0.624016, Train accuracy: 0.761222, val accuracy: 0.694000\n",
      "Loss: 0.867787, Train accuracy: 0.767889, val accuracy: 0.688000\n",
      "Loss: 0.838989, Train accuracy: 0.796556, val accuracy: 0.727000\n",
      "Loss: 0.987716, Train accuracy: 0.836889, val accuracy: 0.741000\n",
      "Loss: 0.666168, Train accuracy: 0.794889, val accuracy: 0.692000\n",
      "Loss: 0.723042, Train accuracy: 0.800889, val accuracy: 0.699000\n",
      "Loss: 0.602577, Train accuracy: 0.841556, val accuracy: 0.737000\n",
      "Loss: 2.205544, Train accuracy: 0.196667, val accuracy: 0.206000\n",
      "Loss: 2.272593, Train accuracy: 0.196667, val accuracy: 0.206000\n",
      "Loss: 2.259990, Train accuracy: 0.196667, val accuracy: 0.206000\n",
      "Loss: 2.074236, Train accuracy: 0.248778, val accuracy: 0.246000\n",
      "Loss: 1.873861, Train accuracy: 0.295111, val accuracy: 0.303000\n",
      "Loss: 1.648362, Train accuracy: 0.388000, val accuracy: 0.364000\n",
      "Loss: 1.774225, Train accuracy: 0.449778, val accuracy: 0.448000\n",
      "Loss: 1.519629, Train accuracy: 0.503556, val accuracy: 0.506000\n",
      "Loss: 1.269833, Train accuracy: 0.556222, val accuracy: 0.558000\n",
      "Loss: 1.635390, Train accuracy: 0.599333, val accuracy: 0.588000\n",
      "Loss: 1.565662, Train accuracy: 0.644222, val accuracy: 0.617000\n",
      "Loss: 1.201316, Train accuracy: 0.663889, val accuracy: 0.653000\n",
      "Loss: 1.059049, Train accuracy: 0.687444, val accuracy: 0.674000\n",
      "Loss: 1.156376, Train accuracy: 0.689778, val accuracy: 0.673000\n",
      "Loss: 1.272121, Train accuracy: 0.697111, val accuracy: 0.677000\n",
      "Loss: 1.207586, Train accuracy: 0.705778, val accuracy: 0.682000\n",
      "Loss: 2.285099, Train accuracy: 0.196667, val accuracy: 0.206000\n",
      "Loss: 2.217066, Train accuracy: 0.196667, val accuracy: 0.206000\n",
      "Loss: 2.132008, Train accuracy: 0.196667, val accuracy: 0.206000\n",
      "Loss: 2.294301, Train accuracy: 0.196667, val accuracy: 0.206000\n",
      "Loss: 2.182249, Train accuracy: 0.196667, val accuracy: 0.206000\n",
      "Loss: 2.216362, Train accuracy: 0.196667, val accuracy: 0.206000\n",
      "Loss: 2.112739, Train accuracy: 0.217111, val accuracy: 0.224000\n",
      "Loss: 2.124474, Train accuracy: 0.249444, val accuracy: 0.254000\n",
      "Loss: 2.041037, Train accuracy: 0.273889, val accuracy: 0.272000\n",
      "Loss: 2.022027, Train accuracy: 0.290889, val accuracy: 0.294000\n",
      "Loss: 2.138388, Train accuracy: 0.329889, val accuracy: 0.339000\n",
      "Loss: 1.767487, Train accuracy: 0.379889, val accuracy: 0.373000\n",
      "Loss: 1.824820, Train accuracy: 0.399222, val accuracy: 0.388000\n",
      "Loss: 1.707961, Train accuracy: 0.433222, val accuracy: 0.431000\n",
      "Loss: 1.631166, Train accuracy: 0.482111, val accuracy: 0.474000\n",
      "Loss: 1.502924, Train accuracy: 0.511778, val accuracy: 0.504000\n",
      "Loss: 2.215935, Train accuracy: 0.196667, val accuracy: 0.206000\n",
      "Loss: 2.284350, Train accuracy: 0.196667, val accuracy: 0.206000\n",
      "Loss: 2.272039, Train accuracy: 0.196667, val accuracy: 0.206000\n",
      "Loss: 1.914993, Train accuracy: 0.260222, val accuracy: 0.260000\n",
      "Loss: 2.057471, Train accuracy: 0.303778, val accuracy: 0.303000\n",
      "Loss: 1.876022, Train accuracy: 0.400333, val accuracy: 0.392000\n",
      "Loss: 1.664621, Train accuracy: 0.475667, val accuracy: 0.482000\n",
      "Loss: 1.462625, Train accuracy: 0.528667, val accuracy: 0.528000\n",
      "Loss: 1.292108, Train accuracy: 0.574111, val accuracy: 0.578000\n",
      "Loss: 1.128454, Train accuracy: 0.614111, val accuracy: 0.598000\n",
      "Loss: 1.178217, Train accuracy: 0.638222, val accuracy: 0.630000\n",
      "Loss: 1.342352, Train accuracy: 0.677222, val accuracy: 0.657000\n",
      "Loss: 1.301901, Train accuracy: 0.680333, val accuracy: 0.676000\n",
      "Loss: 1.026388, Train accuracy: 0.706778, val accuracy: 0.679000\n",
      "Loss: 1.069440, Train accuracy: 0.709667, val accuracy: 0.692000\n",
      "Loss: 1.005707, Train accuracy: 0.713000, val accuracy: 0.687000\n",
      "Loss: 2.274227, Train accuracy: 0.196667, val accuracy: 0.206000\n",
      "Loss: 2.253357, Train accuracy: 0.196667, val accuracy: 0.206000\n",
      "Loss: 2.311300, Train accuracy: 0.196667, val accuracy: 0.206000\n",
      "Loss: 2.334789, Train accuracy: 0.196667, val accuracy: 0.206000\n",
      "Loss: 2.248745, Train accuracy: 0.196667, val accuracy: 0.206000\n",
      "Loss: 2.292535, Train accuracy: 0.196667, val accuracy: 0.206000\n",
      "Loss: 2.167600, Train accuracy: 0.230778, val accuracy: 0.234000\n",
      "Loss: 2.099248, Train accuracy: 0.271444, val accuracy: 0.268000\n",
      "Loss: 1.895418, Train accuracy: 0.289889, val accuracy: 0.294000\n",
      "Loss: 2.012485, Train accuracy: 0.345667, val accuracy: 0.345000\n",
      "Loss: 1.778453, Train accuracy: 0.394889, val accuracy: 0.389000\n",
      "Loss: 1.900933, Train accuracy: 0.444000, val accuracy: 0.434000\n",
      "Loss: 1.466024, Train accuracy: 0.477111, val accuracy: 0.463000\n",
      "Loss: 1.487289, Train accuracy: 0.506889, val accuracy: 0.494000\n",
      "Loss: 1.646245, Train accuracy: 0.543222, val accuracy: 0.534000\n",
      "Loss: 1.407142, Train accuracy: 0.575000, val accuracy: 0.556000\n",
      "Loss: 2.240225, Train accuracy: 0.196667, val accuracy: 0.206000\n",
      "Loss: 2.117330, Train accuracy: 0.196667, val accuracy: 0.206000\n",
      "Loss: 2.135973, Train accuracy: 0.200556, val accuracy: 0.207000\n",
      "Loss: 2.142392, Train accuracy: 0.278556, val accuracy: 0.283000\n",
      "Loss: 1.965170, Train accuracy: 0.364778, val accuracy: 0.363000\n",
      "Loss: 1.712723, Train accuracy: 0.435222, val accuracy: 0.427000\n",
      "Loss: 1.585843, Train accuracy: 0.521000, val accuracy: 0.526000\n",
      "Loss: 1.518608, Train accuracy: 0.557778, val accuracy: 0.555000\n",
      "Loss: 1.256257, Train accuracy: 0.614444, val accuracy: 0.607000\n",
      "Loss: 1.225170, Train accuracy: 0.641556, val accuracy: 0.632000\n",
      "Loss: 1.398231, Train accuracy: 0.664222, val accuracy: 0.658000\n",
      "Loss: 1.489446, Train accuracy: 0.679667, val accuracy: 0.656000\n",
      "Loss: 1.115386, Train accuracy: 0.695222, val accuracy: 0.684000\n",
      "Loss: 1.051345, Train accuracy: 0.713222, val accuracy: 0.683000\n",
      "Loss: 1.037443, Train accuracy: 0.717556, val accuracy: 0.683000\n",
      "Loss: 1.180631, Train accuracy: 0.736000, val accuracy: 0.712000\n",
      "Loss: 2.229500, Train accuracy: 0.196667, val accuracy: 0.206000\n",
      "Loss: 2.227331, Train accuracy: 0.196667, val accuracy: 0.206000\n",
      "Loss: 2.181499, Train accuracy: 0.196667, val accuracy: 0.206000\n",
      "Loss: 2.110062, Train accuracy: 0.196667, val accuracy: 0.206000\n",
      "Loss: 2.256175, Train accuracy: 0.196667, val accuracy: 0.206000\n",
      "Loss: 2.053000, Train accuracy: 0.204778, val accuracy: 0.213000\n",
      "Loss: 2.071232, Train accuracy: 0.253000, val accuracy: 0.254000\n",
      "Loss: 2.189231, Train accuracy: 0.276000, val accuracy: 0.277000\n",
      "Loss: 1.965003, Train accuracy: 0.299000, val accuracy: 0.303000\n",
      "Loss: 1.952417, Train accuracy: 0.351889, val accuracy: 0.354000\n",
      "Loss: 1.884557, Train accuracy: 0.405333, val accuracy: 0.410000\n",
      "Loss: 1.807877, Train accuracy: 0.450667, val accuracy: 0.457000\n",
      "Loss: 1.430196, Train accuracy: 0.489889, val accuracy: 0.491000\n",
      "Loss: 1.451196, Train accuracy: 0.528222, val accuracy: 0.527000\n",
      "Loss: 1.507327, Train accuracy: 0.557556, val accuracy: 0.556000\n",
      "Loss: 1.191932, Train accuracy: 0.583111, val accuracy: 0.575000\n",
      "Loss: 2.187067, Train accuracy: 0.196667, val accuracy: 0.206000\n",
      "Loss: 2.302185, Train accuracy: 0.196667, val accuracy: 0.206000\n",
      "Loss: 2.239935, Train accuracy: 0.196667, val accuracy: 0.206000\n",
      "Loss: 2.120616, Train accuracy: 0.267111, val accuracy: 0.259000\n",
      "Loss: 1.893525, Train accuracy: 0.290222, val accuracy: 0.288000\n",
      "Loss: 1.608822, Train accuracy: 0.379667, val accuracy: 0.389000\n",
      "Loss: 1.570700, Train accuracy: 0.459778, val accuracy: 0.444000\n",
      "Loss: 1.706215, Train accuracy: 0.523111, val accuracy: 0.518000\n",
      "Loss: 1.447347, Train accuracy: 0.562111, val accuracy: 0.551000\n",
      "Loss: 1.031721, Train accuracy: 0.598556, val accuracy: 0.601000\n",
      "Loss: 1.182668, Train accuracy: 0.626556, val accuracy: 0.625000\n",
      "Loss: 1.404977, Train accuracy: 0.658889, val accuracy: 0.656000\n",
      "Loss: 1.187010, Train accuracy: 0.661333, val accuracy: 0.650000\n",
      "Loss: 1.195391, Train accuracy: 0.682889, val accuracy: 0.663000\n",
      "Loss: 1.443973, Train accuracy: 0.696556, val accuracy: 0.668000\n",
      "Loss: 1.179207, Train accuracy: 0.702222, val accuracy: 0.677000\n",
      "Loss: 2.182679, Train accuracy: 0.196667, val accuracy: 0.206000\n",
      "Loss: 2.261503, Train accuracy: 0.196667, val accuracy: 0.206000\n",
      "Loss: 2.234687, Train accuracy: 0.196667, val accuracy: 0.206000\n",
      "Loss: 2.170974, Train accuracy: 0.196667, val accuracy: 0.206000\n",
      "Loss: 2.299034, Train accuracy: 0.196667, val accuracy: 0.206000\n",
      "Loss: 2.041456, Train accuracy: 0.196667, val accuracy: 0.206000\n",
      "Loss: 2.107469, Train accuracy: 0.219000, val accuracy: 0.226000\n",
      "Loss: 2.133986, Train accuracy: 0.257556, val accuracy: 0.257000\n",
      "Loss: 1.917537, Train accuracy: 0.271556, val accuracy: 0.274000\n",
      "Loss: 1.819948, Train accuracy: 0.293333, val accuracy: 0.290000\n",
      "Loss: 1.952939, Train accuracy: 0.331556, val accuracy: 0.329000\n",
      "Loss: 1.682969, Train accuracy: 0.377778, val accuracy: 0.372000\n",
      "Loss: 1.493340, Train accuracy: 0.417556, val accuracy: 0.409000\n",
      "Loss: 1.668825, Train accuracy: 0.442111, val accuracy: 0.426000\n",
      "Loss: 1.478171, Train accuracy: 0.480556, val accuracy: 0.463000\n",
      "Loss: 1.499085, Train accuracy: 0.521556, val accuracy: 0.516000\n",
      "Loss: 2.233235, Train accuracy: 0.196667, val accuracy: 0.206000\n",
      "Loss: 2.117844, Train accuracy: 0.196667, val accuracy: 0.206000\n",
      "Loss: 2.132375, Train accuracy: 0.196667, val accuracy: 0.206000\n",
      "Loss: 2.060066, Train accuracy: 0.259222, val accuracy: 0.260000\n",
      "Loss: 1.801134, Train accuracy: 0.332444, val accuracy: 0.335000\n",
      "Loss: 1.782317, Train accuracy: 0.420333, val accuracy: 0.410000\n",
      "Loss: 1.243861, Train accuracy: 0.503000, val accuracy: 0.498000\n",
      "Loss: 1.459085, Train accuracy: 0.556111, val accuracy: 0.540000\n",
      "Loss: 1.197714, Train accuracy: 0.606889, val accuracy: 0.592000\n",
      "Loss: 1.371063, Train accuracy: 0.636111, val accuracy: 0.633000\n",
      "Loss: 1.241190, Train accuracy: 0.664556, val accuracy: 0.645000\n",
      "Loss: 1.112122, Train accuracy: 0.675889, val accuracy: 0.670000\n",
      "Loss: 1.287743, Train accuracy: 0.693222, val accuracy: 0.674000\n",
      "Loss: 0.873380, Train accuracy: 0.703111, val accuracy: 0.694000\n",
      "Loss: 1.094327, Train accuracy: 0.735333, val accuracy: 0.705000\n",
      "Loss: 0.788957, Train accuracy: 0.748778, val accuracy: 0.710000\n",
      "Loss: 2.214348, Train accuracy: 0.196667, val accuracy: 0.206000\n",
      "Loss: 2.343588, Train accuracy: 0.196667, val accuracy: 0.206000\n",
      "Loss: 2.267542, Train accuracy: 0.196667, val accuracy: 0.206000\n",
      "Loss: 2.307479, Train accuracy: 0.196667, val accuracy: 0.206000\n",
      "Loss: 2.169027, Train accuracy: 0.196667, val accuracy: 0.206000\n",
      "Loss: 2.157027, Train accuracy: 0.198111, val accuracy: 0.210000\n",
      "Loss: 2.167677, Train accuracy: 0.241333, val accuracy: 0.241000\n",
      "Loss: 1.964846, Train accuracy: 0.271444, val accuracy: 0.270000\n",
      "Loss: 2.056359, Train accuracy: 0.296222, val accuracy: 0.304000\n",
      "Loss: 1.955910, Train accuracy: 0.331222, val accuracy: 0.333000\n",
      "Loss: 1.750739, Train accuracy: 0.391333, val accuracy: 0.377000\n",
      "Loss: 1.529703, Train accuracy: 0.424444, val accuracy: 0.418000\n",
      "Loss: 1.604539, Train accuracy: 0.473444, val accuracy: 0.461000\n",
      "Loss: 1.499632, Train accuracy: 0.509556, val accuracy: 0.496000\n",
      "Loss: 1.485658, Train accuracy: 0.540667, val accuracy: 0.525000\n",
      "Loss: 1.294843, Train accuracy: 0.574556, val accuracy: 0.567000\n",
      "Loss: 2.202515, Train accuracy: 0.196667, val accuracy: 0.206000\n",
      "Loss: 2.243342, Train accuracy: 0.196667, val accuracy: 0.206000\n",
      "Loss: 2.087611, Train accuracy: 0.214000, val accuracy: 0.222000\n",
      "Loss: 2.045054, Train accuracy: 0.275667, val accuracy: 0.279000\n",
      "Loss: 1.913178, Train accuracy: 0.357000, val accuracy: 0.358000\n",
      "Loss: 1.790095, Train accuracy: 0.436889, val accuracy: 0.451000\n",
      "Loss: 1.619808, Train accuracy: 0.525667, val accuracy: 0.521000\n",
      "Loss: 1.335098, Train accuracy: 0.562111, val accuracy: 0.555000\n",
      "Loss: 1.190852, Train accuracy: 0.623444, val accuracy: 0.607000\n",
      "Loss: 1.390677, Train accuracy: 0.641889, val accuracy: 0.625000\n",
      "Loss: 1.086931, Train accuracy: 0.671556, val accuracy: 0.653000\n",
      "Loss: 1.027215, Train accuracy: 0.664556, val accuracy: 0.662000\n",
      "Loss: 0.976247, Train accuracy: 0.714222, val accuracy: 0.678000\n",
      "Loss: 0.786443, Train accuracy: 0.716111, val accuracy: 0.691000\n",
      "Loss: 0.939114, Train accuracy: 0.741556, val accuracy: 0.712000\n",
      "Loss: 0.657200, Train accuracy: 0.743111, val accuracy: 0.702000\n",
      "Loss: 2.257466, Train accuracy: 0.196667, val accuracy: 0.206000\n",
      "Loss: 2.151076, Train accuracy: 0.196667, val accuracy: 0.206000\n",
      "Loss: 2.302039, Train accuracy: 0.196667, val accuracy: 0.206000\n",
      "Loss: 2.255637, Train accuracy: 0.196667, val accuracy: 0.206000\n",
      "Loss: 2.203915, Train accuracy: 0.196667, val accuracy: 0.206000\n",
      "Loss: 2.051810, Train accuracy: 0.210889, val accuracy: 0.216000\n",
      "Loss: 1.942956, Train accuracy: 0.256111, val accuracy: 0.259000\n",
      "Loss: 2.028046, Train accuracy: 0.278889, val accuracy: 0.279000\n",
      "Loss: 1.615862, Train accuracy: 0.305556, val accuracy: 0.308000\n",
      "Loss: 1.642353, Train accuracy: 0.370111, val accuracy: 0.362000\n",
      "Loss: 1.626241, Train accuracy: 0.412444, val accuracy: 0.409000\n",
      "Loss: 1.661110, Train accuracy: 0.447444, val accuracy: 0.435000\n",
      "Loss: 1.622734, Train accuracy: 0.495444, val accuracy: 0.497000\n",
      "Loss: 1.417124, Train accuracy: 0.528222, val accuracy: 0.521000\n",
      "Loss: 1.329205, Train accuracy: 0.568556, val accuracy: 0.544000\n",
      "Loss: 1.165504, Train accuracy: 0.590000, val accuracy: 0.566000\n",
      "best validation accuracy achieved: 0.737000\n"
     ]
    }
   ],
   "source": [
    "# Let's train the best one-hidden-layer network we can\n",
    "\n",
    "learning_rates = [1e-1, 1e-2]\n",
    "reg_strength = [1e-3, 1e-5]\n",
    "hidden_layer_sizes = [64, 128, 256]\n",
    "batch_size = [64, 128]\n",
    "num_epochs = 16\n",
    "\n",
    "best_classifier = None\n",
    "best_val_accuracy = 0\n",
    "\n",
    "loss_history = []\n",
    "train_history = []\n",
    "val_history = []\n",
    "\n",
    "dataset = Dataset(train_X, train_y, val_X, val_y)\n",
    "\n",
    "# TODO find the best hyperparameters to train the network\n",
    "# Don't hesitate to add new values to the arrays above, perform experiments, use any tricks you want\n",
    "# You should expect to get to at least 40% of valudation accuracy\n",
    "# Save loss/train/history of the best classifier to the variables above\n",
    "for lr in learning_rates:\n",
    "    for rs in reg_strength:\n",
    "        for ls in hidden_layer_sizes:\n",
    "            for bs in batch_size:\n",
    "                model = TwoLayerNet(n_input=train_X.shape[1], n_output=10, hidden_layer_size=ls, reg=rs)\n",
    "                trainer = Trainer(model, dataset, MomentumSGD(), learning_rate=lr, num_epochs=num_epochs, batch_size=bs)\n",
    "                temp_loss_history, temp_train_history, temp_val_history = trainer.fit()\n",
    "                \n",
    "                if temp_val_history[-1] > best_val_accuracy:\n",
    "                    best_classifier = model\n",
    "                    best_val_accuracy = temp_val_history[-1]\n",
    "                    loss_history = temp_loss_history.copy()\n",
    "                    train_history = temp_train_history.copy()\n",
    "                    val_history = temp_val_history.copy()\n",
    "\n",
    "print('best validation accuracy achieved: %f' % best_val_accuracy)"
   ]
  },
  {
   "cell_type": "code",
   "execution_count": 49,
   "metadata": {},
   "outputs": [
    {
     "data": {
      "text/plain": [
       "[<matplotlib.lines.Line2D at 0x1b941fa3790>]"
      ]
     },
     "execution_count": 49,
     "metadata": {},
     "output_type": "execute_result"
    },
    {
     "data": {
      "image/png": "[encoded data removed]",
      "text/plain": [
       "<Figure size 1500x700 with 2 Axes>"
      ]
     },
     "metadata": {},
     "output_type": "display_data"
    }
   ],
   "source": [
    "plt.figure(figsize=(15, 7))\n",
    "plt.subplot(211)\n",
    "plt.title(\"Loss\")\n",
    "plt.plot(loss_history)\n",
    "plt.subplot(212)\n",
    "plt.title(\"Train/validation accuracy\")\n",
    "plt.plot(train_history)\n",
    "plt.plot(val_history)"
   ]
  },
  {
   "cell_type": "markdown",
   "metadata": {},
   "source": [
    "# Как обычно, посмотрим, как наша лучшая модель работает на тестовых данных"
   ]
  },
  {
   "cell_type": "code",
   "execution_count": 50,
   "metadata": {},
   "outputs": [
    {
     "name": "stdout",
     "output_type": "stream",
     "text": [
      "Neural net test set accuracy: 0.702000\n"
     ]
    }
   ],
   "source": [
    "test_pred = best_classifier.predict(test_X)\n",
    "test_accuracy = multiclass_accuracy(test_pred, test_y)\n",
    "print('Neural net test set accuracy: %f' % (test_accuracy, ))"
   ]
  }
 ],
 "metadata": {
  "kernelspec": {
   "display_name": "Python 3 (ipykernel)",
   "language": "python",
   "name": "python3"
  },
  "language_info": {
   "codemirror_mode": {
    "name": "ipython",
    "version": 3
   },
   "file_extension": ".py",
   "mimetype": "text/x-python",
   "name": "python",
   "nbconvert_exporter": "python",
   "pygments_lexer": "ipython3",
   "version": "3.11.7"
  }
 },
 "nbformat": 4,
 "nbformat_minor": 4
}
